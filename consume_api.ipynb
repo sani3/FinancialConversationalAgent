{
 "cells": [
  {
   "cell_type": "code",
   "execution_count": 65,
   "id": "5329d3c3",
   "metadata": {},
   "outputs": [],
   "source": [
    "import requests\n",
    "import json\n",
    "from datetime import datetime, date\n",
    "from typing import Dict, Any\n",
    "from dateutil.parser import isoparse\n"
   ]
  },
  {
   "cell_type": "code",
   "execution_count": null,
   "id": "f4a1aa9f",
   "metadata": {},
   "outputs": [],
   "source": [
    "BASE_URL = \"http://127.0.0.1:8000\"\n",
    "HEADERS = {\"Content-Type\": \"application/json\"}\n"
   ]
  },
  {
   "cell_type": "code",
   "execution_count": 67,
   "id": "050c418a",
   "metadata": {},
   "outputs": [
    {
     "name": "stdout",
     "output_type": "stream",
     "text": [
      "Index Response: Server is up and running\n"
     ]
    }
   ],
   "source": [
    "# 1. Index Endpoint\n",
    "try:\n",
    "    response = requests.get(f\"{BASE_URL}/\", timeout=10)\n",
    "    response.raise_for_status()\n",
    "    print(\"Index Response:\", response.json())\n",
    "except requests.RequestException as e:\n",
    "    print(f\"Error accessing index endpoint: {str(e)}\")\n"
   ]
  },
  {
   "cell_type": "code",
   "execution_count": 68,
   "id": "82ae2568",
   "metadata": {},
   "outputs": [
    {
     "name": "stdout",
     "output_type": "stream",
     "text": [
      "Health Response: {'status': 'healthy'}\n"
     ]
    }
   ],
   "source": [
    "# 2. Health Endpoint\n",
    "try:\n",
    "    response = requests.get(f\"{BASE_URL}/health\", timeout=10)\n",
    "    response.raise_for_status()\n",
    "    print(\"Health Response:\", response.json())\n",
    "except requests.RequestException as e:\n",
    "    print(f\"Error accessing health endpoint: {str(e)}\")\n"
   ]
  },
  {
   "cell_type": "code",
   "execution_count": 69,
   "id": "daa439d9",
   "metadata": {},
   "outputs": [],
   "source": [
    "# Load and preprocess transaction history\n",
    "try:\n",
    "    with open('transaction_history.json', 'r') as file:\n",
    "        transactions = json.load(file)\n",
    "\n",
    "    def convert_to_float(value):\n",
    "        if isinstance(value, str):\n",
    "            return float(value.replace(',', ''))\n",
    "        return value  # If it's already a number, leave it unchanged\n",
    "\n",
    "    def filter_transactions_by_date(transactions, start_date=None, end_date=None):\n",
    "        if not start_date and not end_date:\n",
    "            return transactions\n",
    "        filtered = []\n",
    "        start = isoparse(start_date).replace(tzinfo=None) if start_date else None\n",
    "        end = isoparse(end_date).replace(tzinfo=None) if end_date else None\n",
    "        for t in transactions:\n",
    "            transaction_date = isoparse(t['transactionDate']).replace(tzinfo=None)\n",
    "            if start and end:\n",
    "                if start <= transaction_date <= end:\n",
    "                    filtered.append(t)\n",
    "            elif start and transaction_date >= start:\n",
    "                filtered.append(t)\n",
    "            elif end and transaction_date <= end:\n",
    "                filtered.append(t)\n",
    "        return filtered\n",
    "\n",
    "    for transaction in transactions:\n",
    "        transaction['amount'] = convert_to_float(transaction.get('amount'))\n",
    "        transaction['balance'] = convert_to_float(transaction.get('balance'))\n",
    "        # Ensure transactionDate is a string in ISO 8601 format\n",
    "        if isinstance(transaction['transactionDate'], datetime):\n",
    "            transaction['transactionDate'] = transaction['transactionDate'].isoformat()\n",
    "except FileNotFoundError:\n",
    "    print(\"Error: transaction_history.json not found\")\n",
    "except json.JSONDecodeError:\n",
    "    print(\"Error: Invalid JSON in transaction_history.json\")\n"
   ]
  },
  {
   "cell_type": "code",
   "execution_count": 70,
   "id": "39126688",
   "metadata": {},
   "outputs": [
    {
     "name": "stdout",
     "output_type": "stream",
     "text": [
      "Debit Transactions Response: {'messages': 'You have a total of 37 debit transactions.', 'audio': None}\n"
     ]
    }
   ],
   "source": [
    "# Query: Number of debit transactions\n",
    "prompt = \"How many debit transactions do I have\"\n",
    "get_audio = False\n",
    "thread_id = \"1\"\n",
    "\n",
    "endpoint = f\"{BASE_URL}/conversation\"\n",
    "payload = {\n",
    "    \"prompt\": prompt,\n",
    "    \"transactions\": transactions,  # Send all transactions\n",
    "    \"thread_id\": thread_id,\n",
    "    \"get_audio\": get_audio\n",
    "}\n",
    "try:\n",
    "    response = requests.post(endpoint, json=payload, headers=HEADERS, timeout=120)\n",
    "    response.raise_for_status()\n",
    "    result = response.json()\n",
    "    print(\"Debit Transactions Response:\", result)\n",
    "except requests.RequestException as e:\n",
    "    print(f\"Error querying debit transactions: {str(e)}\")\n"
   ]
  },
  {
   "cell_type": "code",
   "execution_count": 71,
   "id": "806a1f53",
   "metadata": {},
   "outputs": [
    {
     "name": "stdout",
     "output_type": "stream",
     "text": [
      "Expense Transactions Response: {'messages': 'You have a total of 72 expense transactions in January 2025.', 'audio': None}\n"
     ]
    }
   ],
   "source": [
    "# Query: Number of expense transactions in January 2025\n",
    "prompt = \"How many expense transactions do I have in January 2025\"\n",
    "get_audio = False\n",
    "thread_id = \"1\"\n",
    "\n",
    "endpoint = f\"{BASE_URL}/conversation\"\n",
    "payload = {\n",
    "    \"prompt\": prompt,\n",
    "    \"transactions\": transactions,  # Send filtered transactions\n",
    "    \"thread_id\": thread_id,\n",
    "    \"get_audio\": get_audio\n",
    "}\n",
    "try:\n",
    "    response = requests.post(endpoint, json=payload, headers=HEADERS, timeout=120)\n",
    "    response.raise_for_status()\n",
    "    result = response.json()\n",
    "    print(\"Expense Transactions Response:\", result)\n",
    "except requests.RequestException as e:\n",
    "    print(f\"Error querying expense transactions: {str(e)}\")\n"
   ]
  },
  {
   "cell_type": "code",
   "execution_count": 72,
   "id": "499ff856",
   "metadata": {},
   "outputs": [
    {
     "name": "stdout",
     "output_type": "stream",
     "text": [
      "Total Income Response: {'messages': 'Your total income in January 2025 is 325,931,182.00 NGN.', 'audio': None}\n"
     ]
    }
   ],
   "source": [
    "# Query: Total income in January 2025\n",
    "prompt = \"What is my total income in January 2025\"\n",
    "get_audio = False\n",
    "thread_id = \"1\"\n",
    "\n",
    "endpoint = f\"{BASE_URL}/conversation\"\n",
    "payload = {\n",
    "    \"prompt\": prompt,\n",
    "    \"transactions\": transactions,  # Send filtered transactions\n",
    "    \"thread_id\": thread_id,\n",
    "    \"get_audio\": get_audio\n",
    "}\n",
    "try:\n",
    "    response = requests.post(endpoint, json=payload, headers=HEADERS, timeout=120)\n",
    "    response.raise_for_status()\n",
    "    result = response.json()\n",
    "    print(\"Total Income Response:\", result)\n",
    "except requests.RequestException as e:\n",
    "    print(f\"Error querying total income: {str(e)}\")\n"
   ]
  }
 ],
 "metadata": {
  "kernelspec": {
   "display_name": "venv",
   "language": "python",
   "name": "python3"
  },
  "language_info": {
   "codemirror_mode": {
    "name": "ipython",
    "version": 3
   },
   "file_extension": ".py",
   "mimetype": "text/x-python",
   "name": "python",
   "nbconvert_exporter": "python",
   "pygments_lexer": "ipython3",
   "version": "3.13.5"
  }
 },
 "nbformat": 4,
 "nbformat_minor": 5
}
